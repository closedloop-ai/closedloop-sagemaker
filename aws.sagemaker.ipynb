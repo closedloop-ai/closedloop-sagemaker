{
 "cells": [
  {
   "cell_type": "markdown",
   "metadata": {},
   "source": [
    "# Using ClosedLoop Sagemaker Marketplace Models\n",
    "\n",
    "This notebook will walk you through using a ClosedLoop model that has been published to the AWS Sagemaker Marketplace. A ClosedLoop account is not required \n",
    "\n",
    "To view a list of all of the models available on the SageMaker Marketplace please see the following link.\n",
    "\n",
    "https://aws.amazon.com/marketplace/seller-profile?id=4134f86f-d5eb-4591-8634-e88e27eff5a6\n",
    "\n",
    "\n",
    "## Install\n",
    "\n",
    "Make sure you have the sagemaker API library installed https://github.com/aws/sagemaker-python-sdk#installing-the-sagemaker-python-sdk\n",
    "\n",
    "`pip install sagemaker`\n",
    "\n",
    "\n",
    "## Notes about the models input and output data.\n",
    "\n",
    "All of the model packages published take the same input format and emit the same output format. You can find out more about what exactly the model is predicting from the AWS marketplace listing for that model package.\n",
    "\n",
    "Data represented in a tabular format where columns and rows are represented as JSON. Each JSON has the id associated with it and optionally records from other fields defined in schema. Data type for the fields is listed in the schema.\n",
    "\n",
    "Parameters:\n",
    "\n",
    "schema – An ordered list of the columns in data.\n",
    "dataSnapshot – The version of raw data used to generate the JSON. See getDataSnaphots for more details.\n",
    "data – The actual data as a list of JSON.\n",
    "idFields – Optional specification for list of ids to retrieve. If unspecified, data for all the population is returned.\n",
    "\n",
    "You can find more detailed documentation at the following link https://docs.closedloop.ai/source/closedloop.api.objects.html#closedloop.api.services.JsonDataFrame\n",
    "\n",
    "There is an example JsonDataFrame included with this notebook that contains a single record in the format the model is expecting."
   ]
  },
  {
   "cell_type": "markdown",
   "metadata": {},
   "source": [
    "## Set up the environment"
   ]
  },
  {
   "cell_type": "code",
   "execution_count": null,
   "metadata": {},
   "outputs": [],
   "source": [
    "import boto3\n",
    "import sagemaker as sage\n",
    "from sagemaker import get_execution_role"
   ]
  },
  {
   "cell_type": "code",
   "execution_count": null,
   "metadata": {},
   "outputs": [],
   "source": [
    "sagemaker_session = sage.session.Session()"
   ]
  },
  {
   "cell_type": "code",
   "execution_count": null,
   "metadata": {},
   "outputs": [],
   "source": [
    "role = get_execution_role(session)"
   ]
  },
  {
   "cell_type": "markdown",
   "metadata": {},
   "source": [
    "## Create Model\n",
    "\n",
    "Using one of the model packages to create a model. You will need the ARN of your subscribed model package. You can get the ARN from the AWS console under Amazon SageMaker -> Model packages: -> My Subscriptions. \n",
    "\n",
    "Below is an example ARN for the asthma admissions model package."
   ]
  },
  {
   "cell_type": "code",
   "execution_count": null,
   "metadata": {},
   "outputs": [],
   "source": [
    "modelpackage_arn = \"arn:aws:sagemaker:us-east-1:865070037744:model-package/closedloop-asthma-admissions-r-5fdd32ce46e75c940075636cef92fc2e\""
   ]
  },
  {
   "cell_type": "code",
   "execution_count": null,
   "metadata": {},
   "outputs": [],
   "source": [
    "from sagemaker import ModelPackage\n",
    "\n",
    "model = ModelPackage(role=role,\n",
    "                     model_package_arn=modelpackage_arn,\n",
    "                     sagemaker_session=sagemaker_session)"
   ]
  },
  {
   "cell_type": "markdown",
   "metadata": {},
   "source": [
    "## Batch Inference\n",
    "\n",
    "The model can be used for batch inference. The input data to the model is the exact same as for live inference, however it supports a Json Lines format where each line of the file represents a JsonDataFrame that will be submitted for predictions."
   ]
  },
  {
   "cell_type": "markdown",
   "metadata": {},
   "source": [
    "## Live Inference Endpoint\n",
    "\n",
    "Now we demonstrate the creation of an endpoint for live inference. This uses the /invocations endpoint provided by SageMaker.\n",
    "\n",
    "### Create endpoint"
   ]
  },
  {
   "cell_type": "code",
   "execution_count": null,
   "metadata": {},
   "outputs": [],
   "source": [
    "inference = model.deploy(1, \"ml.t2.medium\")"
   ]
  },
  {
   "cell_type": "code",
   "execution_count": null,
   "metadata": {},
   "outputs": [],
   "source": [
    "inference"
   ]
  },
  {
   "cell_type": "markdown",
   "metadata": {},
   "source": [
    "### Submit data and get a prediction.\n",
    "\n",
    "There is a sample input file located alongside this notebook containing the sample JsonDataFrame the model is expecting as input. To run this on your own data you will need to format your data in a similar manner."
   ]
  },
  {
   "cell_type": "code",
   "execution_count": null,
   "metadata": {},
   "outputs": [],
   "source": [
    "input_data = open('data/input/sagemaker-input.json').read()"
   ]
  },
  {
   "cell_type": "code",
   "execution_count": null,
   "metadata": {},
   "outputs": [],
   "source": [
    "inference.predict(input_data)"
   ]
  },
  {
   "cell_type": "markdown",
   "metadata": {},
   "source": [
    "### Cleanup Endpoint"
   ]
  },
  {
   "cell_type": "code",
   "execution_count": null,
   "metadata": {},
   "outputs": [],
   "source": [
    "inference.delete_endpoint()"
   ]
  }
 ],
 "metadata": {
  "kernelspec": {
   "display_name": "Python 3",
   "language": "python",
   "name": "python3"
  },
  "language_info": {
   "codemirror_mode": {
    "name": "ipython",
    "version": 3
   },
   "file_extension": ".py",
   "mimetype": "text/x-python",
   "name": "python",
   "nbconvert_exporter": "python",
   "pygments_lexer": "ipython3",
   "version": "3.7.3"
  }
 },
 "nbformat": 4,
 "nbformat_minor": 2
}
